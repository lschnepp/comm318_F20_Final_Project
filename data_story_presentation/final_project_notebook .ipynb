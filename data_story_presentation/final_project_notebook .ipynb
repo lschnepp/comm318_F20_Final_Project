{
 "cells": [
  {
   "cell_type": "markdown",
   "metadata": {},
   "source": [
    "#### Lauren Schnepp Final Project\n",
    "\n",
    "\n",
    "\n",
    "\n",
    "# The Use of Lethal Drugs by Age"
   ]
  },
  {
   "cell_type": "code",
   "execution_count": 1,
   "metadata": {},
   "outputs": [],
   "source": [
    "import pandas as pd\n",
    "import warnings\n",
    "warnings.filterwarnings('ignore')\n",
    "import numpy as np\n",
    "import matplotlib.pyplot as plt"
   ]
  },
  {
   "cell_type": "markdown",
   "metadata": {},
   "source": [
    "## Introduction"
   ]
  },
  {
   "cell_type": "markdown",
   "metadata": {},
   "source": [
    "Drugs are known to cause a wide range of short- and long- term side affects. In my research, I sought out to find what is the most lethal drug and how does drug consumption affect a person depending on age. This topic was particularly interesting to me because I have always been intrigued about how drugs affect a person's life, and if it affects people differently by age group. Understanding how people engage with drug use and specific substances helps agencies to create important rules, spread awareness, and allocate resources to health services. Learning about drug abuse helps cultivate programs and information to prevent drug abuse and addiction while reducing the effects that drug abuse has on individuals, their families, communities, and society as a whole. Within this notebook, I will answer the questions: What is the most lethal substance (drug)?; How does it affect a person by age group?  "
   ]
  },
  {
   "cell_type": "markdown",
   "metadata": {},
   "source": [
    "## Analysis"
   ]
  },
  {
   "cell_type": "markdown",
   "metadata": {},
   "source": [
    "#### Question 1: What is the most lethal substance (drug)? "
   ]
  },
  {
   "cell_type": "markdown",
   "metadata": {},
   "source": [
    "To answer this question I sought to find data from open source data frames that look at drug and alcohol-related deaths by substance. I came across a data file called Total_Number_of_Drug_Intoxication_Deaths_by_Selected_Substances__2007-2016.csv, that looks at the total number of intoxicated related deaths by substances in Maryland. In this notebook, I tried to analyze which substance was the most lethal and how usage has changed over the course of 6 years, from 2010-2016.  "
   ]
  },
  {
   "cell_type": "code",
   "execution_count": 2,
   "metadata": {},
   "outputs": [],
   "source": [
    "# load and investigate the data \n",
    "substances_df = pd.read_csv('../data/Total_Number_of_Drug_Intoxication_Deaths_by_Selected_Substances__2007-2016.csv')"
   ]
  },
  {
   "cell_type": "markdown",
   "metadata": {},
   "source": [
    "I decided to narrow my scope to investigate deaths from 2010-2016 and renamed columns to make it easier to read and use within the notebook. "
   ]
  },
  {
   "cell_type": "code",
   "execution_count": 3,
   "metadata": {},
   "outputs": [],
   "source": [
    "# subset data frame to look at years 2010 - 2016 \n",
    "substances_df = substances_df.loc[2:9]"
   ]
  },
  {
   "cell_type": "code",
   "execution_count": 4,
   "metadata": {},
   "outputs": [],
   "source": [
    "#renaming the columns to fit my preferences and for ease when coding: \n",
    "sname_dict = {\n",
    "    \"Calendar Year\": \"calendar_yr\", \n",
    "    \"Heroin Deaths\": \"heroin_deaths\", \n",
    "    \"Prescription Opioid Deaths\": \"opioid_deaths\", \n",
    "    \"Alcohol Deaths\": \"alcohol_deaths\", \n",
    "    \"Benzodiazepine Deaths\": \"benzo_deaths\", \n",
    "    \"Cocaine Deaths\": \"cocaine_deaths\",\n",
    "    \"Fentanyl Deaths\": \"fentanyl_deaths\"\n",
    "}"
   ]
  },
  {
   "cell_type": "code",
   "execution_count": 5,
   "metadata": {},
   "outputs": [],
   "source": [
    "substances_df = substances_df.rename(columns=sname_dict)"
   ]
  },
  {
   "cell_type": "markdown",
   "metadata": {},
   "source": [
    "Next, I took the mean and sum of deaths for each year to determine if there is an increase or decrease in deaths as from 2010-2016.  "
   ]
  },
  {
   "cell_type": "code",
   "execution_count": 6,
   "metadata": {},
   "outputs": [],
   "source": [
    "#create a list of columns that you want to mean\n",
    "colstouse = ['heroin_deaths', 'opioid_deaths', 'alcohol_deaths',\n",
    "       'benzo_deaths', 'cocaine_deaths', 'fentanyl_deaths']\n",
    "\n",
    "#select these columns and take a mean of each row\n",
    "substances_df['total_sum'] = substances_df[colstouse].sum(axis=1)\n",
    "substances_df['total_mean'] = substances_df[colstouse].mean(axis=1)"
   ]
  },
  {
   "cell_type": "code",
   "execution_count": 7,
   "metadata": {},
   "outputs": [
    {
     "data": {
      "text/html": [
       "<div>\n",
       "<style scoped>\n",
       "    .dataframe tbody tr th:only-of-type {\n",
       "        vertical-align: middle;\n",
       "    }\n",
       "\n",
       "    .dataframe tbody tr th {\n",
       "        vertical-align: top;\n",
       "    }\n",
       "\n",
       "    .dataframe thead th {\n",
       "        text-align: right;\n",
       "    }\n",
       "</style>\n",
       "<table border=\"1\" class=\"dataframe\">\n",
       "  <thead>\n",
       "    <tr style=\"text-align: right;\">\n",
       "      <th></th>\n",
       "      <th>calendar_yr</th>\n",
       "      <th>total_sum</th>\n",
       "    </tr>\n",
       "  </thead>\n",
       "  <tbody>\n",
       "    <tr>\n",
       "      <th>6</th>\n",
       "      <td>2007</td>\n",
       "      <td>1199</td>\n",
       "    </tr>\n",
       "    <tr>\n",
       "      <th>2</th>\n",
       "      <td>2010</td>\n",
       "      <td>941</td>\n",
       "    </tr>\n",
       "    <tr>\n",
       "      <th>3</th>\n",
       "      <td>2011</td>\n",
       "      <td>992</td>\n",
       "    </tr>\n",
       "    <tr>\n",
       "      <th>4</th>\n",
       "      <td>2012</td>\n",
       "      <td>1153</td>\n",
       "    </tr>\n",
       "    <tr>\n",
       "      <th>5</th>\n",
       "      <td>2013</td>\n",
       "      <td>1299</td>\n",
       "    </tr>\n",
       "    <tr>\n",
       "      <th>7</th>\n",
       "      <td>2014</td>\n",
       "      <td>1665</td>\n",
       "    </tr>\n",
       "    <tr>\n",
       "      <th>8</th>\n",
       "      <td>2015</td>\n",
       "      <td>2061</td>\n",
       "    </tr>\n",
       "    <tr>\n",
       "      <th>9</th>\n",
       "      <td>2016</td>\n",
       "      <td>3920</td>\n",
       "    </tr>\n",
       "  </tbody>\n",
       "</table>\n",
       "</div>"
      ],
      "text/plain": [
       "   calendar_yr  total_sum\n",
       "6         2007       1199\n",
       "2         2010        941\n",
       "3         2011        992\n",
       "4         2012       1153\n",
       "5         2013       1299\n",
       "7         2014       1665\n",
       "8         2015       2061\n",
       "9         2016       3920"
      ]
     },
     "execution_count": 7,
     "metadata": {},
     "output_type": "execute_result"
    }
   ],
   "source": [
    "substances_df[['calendar_yr', 'total_sum']].sort_values('calendar_yr')"
   ]
  },
  {
   "cell_type": "markdown",
   "metadata": {},
   "source": [
    "Table by Lauren Schnepp; Source: https://catalog.data.gov/dataset/total-number-of-drug-intoxication-deaths-by-selected-substances-2007-2016"
   ]
  },
  {
   "cell_type": "markdown",
   "metadata": {},
   "source": [
    "I then created a bar graph to help visualize how total deaths have changed from 2010-2016. "
   ]
  },
  {
   "cell_type": "code",
   "execution_count": 8,
   "metadata": {},
   "outputs": [
    {
     "data": {
      "text/plain": [
       "Text(0, 0.5, 'Amount of Deaths')"
      ]
     },
     "execution_count": 8,
     "metadata": {},
     "output_type": "execute_result"
    },
    {
     "data": {
      "image/png": "[encoded data removed]",
      "text/plain": [
       "<Figure size 864x288 with 1 Axes>"
      ]
     },
     "metadata": {
      "needs_background": "light"
     },
     "output_type": "display_data"
    }
   ],
   "source": [
    "total_df=substances_df[['calendar_yr','total_sum']]\n",
    "\n",
    "total_df.sort_values('calendar_yr').plot(x='calendar_yr', y='total_sum', kind='bar', figsize=(12,4))\n",
    "plt.title('Total Deaths')\n",
    "plt.xlabel('Year')\n",
    "plt.ylabel('Amount of Deaths')"
   ]
  },
  {
   "cell_type": "markdown",
   "metadata": {},
   "source": [
    "Graph by Lauren Schnepp; Source: https://catalog.data.gov/dataset/total-number-of-drug-intoxication-deaths-by-selected-substances-2007-2016"
   ]
  },
  {
   "cell_type": "markdown",
   "metadata": {},
   "source": [
    "As you can see in the bar plot above, deaths have increased every year from 2010-2016. It is important to mention that 2007 is in this graph, but I am not using it in my analysis. \n",
    "* In 2010 941 people died from drug use, while in 2016 3920 people died from drug use. This is a huge increase and suggests that drug use has increased since 2010. "
   ]
  },
  {
   "cell_type": "markdown",
   "metadata": {},
   "source": [
    "#### Generalized Findings: \n",
    "From looking at data in substances_df, the most deaths were caused by Heroin and Fentanyl, followed by alcohol and cocaine. Shown in the graphs bellow, deaths related to these four substances have increased dramatically over the course of 6 years. "
   ]
  },
  {
   "cell_type": "code",
   "execution_count": 9,
   "metadata": {},
   "outputs": [
    {
     "data": {
      "text/plain": [
       "Text(0, 0.5, 'number of deaths')"
      ]
     },
     "execution_count": 9,
     "metadata": {},
     "output_type": "execute_result"
    },
    {
     "data": {
      "image/png": "[encoded data removed]",
      "text/plain": [
       "<Figure size 432x288 with 1 Axes>"
      ]
     },
     "metadata": {
      "needs_background": "light"
     },
     "output_type": "display_data"
    }
   ],
   "source": [
    "substances_df.iloc[0:14][['calendar_yr','alcohol_deaths','fentanyl_deaths','cocaine_deaths','heroin_deaths' ]].plot(kind='bar', x='calendar_yr')\n",
    "plt.title('Deaths from 2010-2016')\n",
    "plt.ylabel('number of deaths')"
   ]
  },
  {
   "cell_type": "markdown",
   "metadata": {},
   "source": [
    "Graph by Lauren Schnepp; Source: https://catalog.data.gov/dataset/total-number-of-drug-intoxication-deaths-by-selected-substances-2007-2016"
   ]
  },
  {
   "cell_type": "markdown",
   "metadata": {},
   "source": [
    "I decided to use outside sources to investigate how lethal are these drugs and what are their side affects. "
   ]
  },
  {
   "cell_type": "markdown",
   "metadata": {},
   "source": [
    "##### Alcohol (Murray, 2020)\n",
    "* Alcohol is said to be responsible for 88,000 US deaths annually. \n",
    "* Side effects: slurred speech, blacking out, liver disease, and comas. \n",
    "* Long-term use side effects: brain damage, kidney and liver damage, financial loss, poor memory, cancer, higher risk of assault, irritability, alcohol withdrawal and Delirium Tremens, and sometimes death. "
   ]
  },
  {
   "cell_type": "markdown",
   "metadata": {},
   "source": [
    "##### Fentanyl (Murray, 2020)\n",
    "* In 2016, fentanyl was reported to have killed 18,335 people, which is equal to 28.8% of deaths due to drug abuse.\n",
    "* Side effects: increased sense of euphoria, confusion, constipation, difficulty concentrating, dry mouth, flushed skin and sweating, intense drowsiness and fatigue, loss of consciousness, nausea and vomiting, pinpoint pupils, slowed breathing, slowed heart rate, weakness, and death. "
   ]
  },
  {
   "cell_type": "markdown",
   "metadata": {},
   "source": [
    "##### Heroin (Murray, 2020)\n",
    "* The CDC reported that Heroin killed 4,454 people in 2011, and increased to 15,961 deaths by 2016. That is a huge increase and suggests that either the frequency of heroin use has increased, or the amount used has increased. \n",
    "* Overdose symptoms: blueish lips, shallow breathing, convulsions, comas, and sometimes death. "
   ]
  },
  {
   "cell_type": "markdown",
   "metadata": {},
   "source": [
    "##### Cocaine (Murray, 2020)\n",
    "* Cocaine has been gaining popularity since the 1970's. In 2011, there were 5,070 deaths related to cocaine; and in 2016 11,316 people died from cocaine use. \n",
    "* Side effects of cocaine abuse: cardiac arrest, convulsions, stroke, and death. \n",
    "* Other side affects: feelings of paranoia, excitability, extreme weight loss, anxiety, and depression.\n"
   ]
  },
  {
   "cell_type": "markdown",
   "metadata": {},
   "source": [
    "From the data I have collected from the data in my notebook initial_data_analysis containing the data frame Total_Number_of_Drug_Intoxication_Deaths_by_Selected_Substances__2007-2016.csv, the most lethal substances are alcohol, fentanyl, heroin, and cocaine. "
   ]
  },
  {
   "cell_type": "markdown",
   "metadata": {},
   "source": [
    "#### Question 2: How do these drugs affect a person by age group? "
   ]
  },
  {
   "cell_type": "markdown",
   "metadata": {},
   "source": [
    "To investigate this question, I decided to look for a data frame that looks at drug use by age to see which age group engages in drug use the most, and how drug use changes with age. I will also be looking at which age engages most with the four most lethal drugs found by answering my first research question. I will be focusing on alcohol and cocaine use, because these drugs overlap in the data frame with the four lethal drugs found by answering the first research question. In my further_data_analysis notebook, I examined the data frame drug-use-by-age.csv that looks at use of substances by age. The age range is from 12yo to 65+yo. "
   ]
  },
  {
   "cell_type": "code",
   "execution_count": 10,
   "metadata": {},
   "outputs": [],
   "source": [
    "# load and investigate the data \n",
    "du_df = pd.read_csv('../data/drug-use-by-age.csv')"
   ]
  },
  {
   "cell_type": "code",
   "execution_count": 11,
   "metadata": {},
   "outputs": [],
   "source": [
    "#renaming the columns to fit my preferences and for ease when coding: \n",
    "duname_dict = {\n",
    "    \"alcohol-use\": \"alcohol_use\", \n",
    "    \"alcohol-frequency\": \"alcohol_frequency\", \n",
    "    \"marijuana-use\": \"marijuana_use\", \n",
    "    \"marijuana-frequency\": \"marijuana_frequency\", \n",
    "    \"cocaine-use\": \"cocaine_use\", \n",
    "    \"cocaine-frequency\": \"cocaine_frequency\", \n",
    "    \"crack-use\": \"crack_use\", \n",
    "    \"crack-frequency\": \"crack_frequency\",\n",
    "    \"oxycontin-use\": \"oxycontin_use\", \n",
    "    \"oxycontin-frequency\": \"oxycontin_frequency\", \n",
    "    \"tranquilizer-use\": \"tranquilizer_use\", \n",
    "    \"tranquilizer-frequency\": \"tranquilizer_frequency\", \n",
    "    \"stimulant-use\": \"stimulant_use\", \n",
    "    \"stimulant-frequency\": \"stimulant_frequency\", \n",
    "    \"meth-use\": \"meth_use\", \n",
    "    \"meth-frequency\": \"meth_frequency\", \n",
    "    \"sedative-use\": \"sedative_use\", \n",
    "    \"sedative-frequency\": \"sedative_frequency\" \n",
    "}\n",
    "du_df = du_df.rename(columns=duname_dict)"
   ]
  },
  {
   "cell_type": "markdown",
   "metadata": {},
   "source": [
    "It is important to note that use is the percentage of those in an age group who used a specific substance in the past 12 months; and frequency is the median number of times a person used a specific substance in the past 12 months. "
   ]
  },
  {
   "cell_type": "markdown",
   "metadata": {},
   "source": [
    "I will be looking at four different age ranges: 12-17, 18-25, 25-64, and 65+ and look at their consumption of specific drugs. "
   ]
  },
  {
   "cell_type": "markdown",
   "metadata": {},
   "source": [
    "##### Age Range: 12-17"
   ]
  },
  {
   "cell_type": "code",
   "execution_count": 12,
   "metadata": {},
   "outputs": [
    {
     "data": {
      "text/html": [
       "<div>\n",
       "<style scoped>\n",
       "    .dataframe tbody tr th:only-of-type {\n",
       "        vertical-align: middle;\n",
       "    }\n",
       "\n",
       "    .dataframe tbody tr th {\n",
       "        vertical-align: top;\n",
       "    }\n",
       "\n",
       "    .dataframe thead th {\n",
       "        text-align: right;\n",
       "    }\n",
       "</style>\n",
       "<table border=\"1\" class=\"dataframe\">\n",
       "  <thead>\n",
       "    <tr style=\"text-align: right;\">\n",
       "      <th></th>\n",
       "      <th>age</th>\n",
       "      <th>alcohol_use</th>\n",
       "      <th>cocaine_use</th>\n",
       "    </tr>\n",
       "  </thead>\n",
       "  <tbody>\n",
       "    <tr>\n",
       "      <th>0</th>\n",
       "      <td>12</td>\n",
       "      <td>3.9</td>\n",
       "      <td>0.1</td>\n",
       "    </tr>\n",
       "    <tr>\n",
       "      <th>1</th>\n",
       "      <td>13</td>\n",
       "      <td>8.5</td>\n",
       "      <td>0.1</td>\n",
       "    </tr>\n",
       "    <tr>\n",
       "      <th>2</th>\n",
       "      <td>14</td>\n",
       "      <td>18.1</td>\n",
       "      <td>0.1</td>\n",
       "    </tr>\n",
       "    <tr>\n",
       "      <th>3</th>\n",
       "      <td>15</td>\n",
       "      <td>29.2</td>\n",
       "      <td>0.5</td>\n",
       "    </tr>\n",
       "    <tr>\n",
       "      <th>4</th>\n",
       "      <td>16</td>\n",
       "      <td>40.1</td>\n",
       "      <td>1.0</td>\n",
       "    </tr>\n",
       "    <tr>\n",
       "      <th>5</th>\n",
       "      <td>17</td>\n",
       "      <td>49.3</td>\n",
       "      <td>2.0</td>\n",
       "    </tr>\n",
       "  </tbody>\n",
       "</table>\n",
       "</div>"
      ],
      "text/plain": [
       "  age  alcohol_use  cocaine_use\n",
       "0  12          3.9          0.1\n",
       "1  13          8.5          0.1\n",
       "2  14         18.1          0.1\n",
       "3  15         29.2          0.5\n",
       "4  16         40.1          1.0\n",
       "5  17         49.3          2.0"
      ]
     },
     "execution_count": 12,
     "metadata": {},
     "output_type": "execute_result"
    }
   ],
   "source": [
    "du_df.iloc[0:6][['age', 'alcohol_use', 'cocaine_use']]"
   ]
  },
  {
   "cell_type": "markdown",
   "metadata": {},
   "source": [
    "Graph by Lauren Schnepp; Source: https://github.com/fivethirtyeight/data/blob/b8389d975c2fca22997037b811547d41175b26a3/drug-use-by-age/drug-use-by-age.csv"
   ]
  },
  {
   "cell_type": "markdown",
   "metadata": {},
   "source": [
    "Alcohol use increases substantially from age 12 to 17. This table shows that 3.9% of 12 year olds engaged with alcohol, while 49.3% of 17 year olds have used alcohol within the past 12 months. \n",
    "\n",
    "Cocaine use also increases, but at a much less rate than alcohol. 0.1% of 12 year olds have used cocaine in the past 12 months, compared to 2% of 17 year olds. "
   ]
  },
  {
   "cell_type": "markdown",
   "metadata": {},
   "source": [
    "This graph helps visualize how alcohol use and cocaine use increases from age 12-17, with the exception of alcohol use being lower in the 14 year age group than the 13 year age group. "
   ]
  },
  {
   "cell_type": "markdown",
   "metadata": {},
   "source": [
    "##### Age Range: 18-25"
   ]
  },
  {
   "cell_type": "code",
   "execution_count": 13,
   "metadata": {},
   "outputs": [
    {
     "data": {
      "text/html": [
       "<div>\n",
       "<style scoped>\n",
       "    .dataframe tbody tr th:only-of-type {\n",
       "        vertical-align: middle;\n",
       "    }\n",
       "\n",
       "    .dataframe tbody tr th {\n",
       "        vertical-align: top;\n",
       "    }\n",
       "\n",
       "    .dataframe thead th {\n",
       "        text-align: right;\n",
       "    }\n",
       "</style>\n",
       "<table border=\"1\" class=\"dataframe\">\n",
       "  <thead>\n",
       "    <tr style=\"text-align: right;\">\n",
       "      <th></th>\n",
       "      <th>age</th>\n",
       "      <th>alcohol_use</th>\n",
       "      <th>cocaine_use</th>\n",
       "    </tr>\n",
       "  </thead>\n",
       "  <tbody>\n",
       "    <tr>\n",
       "      <th>6</th>\n",
       "      <td>18</td>\n",
       "      <td>58.7</td>\n",
       "      <td>3.2</td>\n",
       "    </tr>\n",
       "    <tr>\n",
       "      <th>7</th>\n",
       "      <td>19</td>\n",
       "      <td>64.6</td>\n",
       "      <td>4.1</td>\n",
       "    </tr>\n",
       "    <tr>\n",
       "      <th>8</th>\n",
       "      <td>20</td>\n",
       "      <td>69.7</td>\n",
       "      <td>4.9</td>\n",
       "    </tr>\n",
       "    <tr>\n",
       "      <th>9</th>\n",
       "      <td>21</td>\n",
       "      <td>83.2</td>\n",
       "      <td>4.8</td>\n",
       "    </tr>\n",
       "    <tr>\n",
       "      <th>10</th>\n",
       "      <td>22-23</td>\n",
       "      <td>84.2</td>\n",
       "      <td>4.5</td>\n",
       "    </tr>\n",
       "    <tr>\n",
       "      <th>11</th>\n",
       "      <td>24-25</td>\n",
       "      <td>83.1</td>\n",
       "      <td>4.0</td>\n",
       "    </tr>\n",
       "  </tbody>\n",
       "</table>\n",
       "</div>"
      ],
      "text/plain": [
       "      age  alcohol_use  cocaine_use\n",
       "6      18         58.7          3.2\n",
       "7      19         64.6          4.1\n",
       "8      20         69.7          4.9\n",
       "9      21         83.2          4.8\n",
       "10  22-23         84.2          4.5\n",
       "11  24-25         83.1          4.0"
      ]
     },
     "execution_count": 13,
     "metadata": {},
     "output_type": "execute_result"
    }
   ],
   "source": [
    "du_df.iloc[6:12][['age', 'alcohol_use', 'cocaine_use']]"
   ]
  },
  {
   "cell_type": "markdown",
   "metadata": {},
   "source": [
    "Graph by Lauren Schnepp; Source: https://github.com/fivethirtyeight/data/blob/b8389d975c2fca22997037b811547d41175b26a3/drug-use-by-age/drug-use-by-age.csv"
   ]
  },
  {
   "cell_type": "markdown",
   "metadata": {},
   "source": [
    " Alcohol use increases dramatically from those who are 18 years old to those who are 24-25. The biggest jump in usage is from 20 to 21 years old. This is possibly due to the legal drinking age being 21 in the United States. However, it is important to note that alcohol usage decreases from the age group 22-23 to 24-25; 84.2% of 22-23 year olds used alcohol over the past 12 months, compared 83.1% of 24-25 year olds. Cocaine use also increased from age 18 to 20, and then slowly declined in usage as the age group increases. "
   ]
  },
  {
   "cell_type": "markdown",
   "metadata": {},
   "source": [
    "##### Age Range: 26 - 64"
   ]
  },
  {
   "cell_type": "code",
   "execution_count": 14,
   "metadata": {},
   "outputs": [
    {
     "data": {
      "text/html": [
       "<div>\n",
       "<style scoped>\n",
       "    .dataframe tbody tr th:only-of-type {\n",
       "        vertical-align: middle;\n",
       "    }\n",
       "\n",
       "    .dataframe tbody tr th {\n",
       "        vertical-align: top;\n",
       "    }\n",
       "\n",
       "    .dataframe thead th {\n",
       "        text-align: right;\n",
       "    }\n",
       "</style>\n",
       "<table border=\"1\" class=\"dataframe\">\n",
       "  <thead>\n",
       "    <tr style=\"text-align: right;\">\n",
       "      <th></th>\n",
       "      <th>age</th>\n",
       "      <th>alcohol_use</th>\n",
       "      <th>cocaine_use</th>\n",
       "    </tr>\n",
       "  </thead>\n",
       "  <tbody>\n",
       "    <tr>\n",
       "      <th>12</th>\n",
       "      <td>26-29</td>\n",
       "      <td>80.7</td>\n",
       "      <td>3.2</td>\n",
       "    </tr>\n",
       "    <tr>\n",
       "      <th>13</th>\n",
       "      <td>30-34</td>\n",
       "      <td>77.5</td>\n",
       "      <td>2.1</td>\n",
       "    </tr>\n",
       "    <tr>\n",
       "      <th>14</th>\n",
       "      <td>35-49</td>\n",
       "      <td>75.0</td>\n",
       "      <td>1.5</td>\n",
       "    </tr>\n",
       "    <tr>\n",
       "      <th>15</th>\n",
       "      <td>50-64</td>\n",
       "      <td>67.2</td>\n",
       "      <td>0.9</td>\n",
       "    </tr>\n",
       "  </tbody>\n",
       "</table>\n",
       "</div>"
      ],
      "text/plain": [
       "      age  alcohol_use  cocaine_use\n",
       "12  26-29         80.7          3.2\n",
       "13  30-34         77.5          2.1\n",
       "14  35-49         75.0          1.5\n",
       "15  50-64         67.2          0.9"
      ]
     },
     "execution_count": 14,
     "metadata": {},
     "output_type": "execute_result"
    }
   ],
   "source": [
    "du_df.iloc[12:16][['age', 'alcohol_use', 'cocaine_use']]"
   ]
  },
  {
   "cell_type": "markdown",
   "metadata": {},
   "source": [
    "Graph by Lauren Schnepp; Source: https://github.com/fivethirtyeight/data/blob/b8389d975c2fca22997037b811547d41175b26a3/drug-use-by-age/drug-use-by-age.csv"
   ]
  },
  {
   "cell_type": "markdown",
   "metadata": {},
   "source": [
    "Alcohol usage declines from age group 26-29 to 50-64 by over 10%. As the age group increases, alcohol usage decreases. Cocaine usage decreases as the age group gets older, which is supportive of the findings in the age range 18-25 that cocaine usage decreases with age. "
   ]
  },
  {
   "cell_type": "markdown",
   "metadata": {},
   "source": [
    "##### Age Range: 65+ "
   ]
  },
  {
   "cell_type": "code",
   "execution_count": 15,
   "metadata": {},
   "outputs": [
    {
     "data": {
      "text/html": [
       "<div>\n",
       "<style scoped>\n",
       "    .dataframe tbody tr th:only-of-type {\n",
       "        vertical-align: middle;\n",
       "    }\n",
       "\n",
       "    .dataframe tbody tr th {\n",
       "        vertical-align: top;\n",
       "    }\n",
       "\n",
       "    .dataframe thead th {\n",
       "        text-align: right;\n",
       "    }\n",
       "</style>\n",
       "<table border=\"1\" class=\"dataframe\">\n",
       "  <thead>\n",
       "    <tr style=\"text-align: right;\">\n",
       "      <th></th>\n",
       "      <th>age</th>\n",
       "      <th>alcohol_use</th>\n",
       "      <th>cocaine_use</th>\n",
       "    </tr>\n",
       "  </thead>\n",
       "  <tbody>\n",
       "    <tr>\n",
       "      <th>15</th>\n",
       "      <td>50-64</td>\n",
       "      <td>67.2</td>\n",
       "      <td>0.9</td>\n",
       "    </tr>\n",
       "    <tr>\n",
       "      <th>16</th>\n",
       "      <td>65+</td>\n",
       "      <td>49.3</td>\n",
       "      <td>0.0</td>\n",
       "    </tr>\n",
       "  </tbody>\n",
       "</table>\n",
       "</div>"
      ],
      "text/plain": [
       "      age  alcohol_use  cocaine_use\n",
       "15  50-64         67.2          0.9\n",
       "16    65+         49.3          0.0"
      ]
     },
     "execution_count": 15,
     "metadata": {},
     "output_type": "execute_result"
    }
   ],
   "source": [
    "du_df.iloc[15:17][['age', 'alcohol_use', 'cocaine_use']]"
   ]
  },
  {
   "cell_type": "markdown",
   "metadata": {},
   "source": [
    "Graph by Lauren Schnepp; Source: https://github.com/fivethirtyeight/data/blob/b8389d975c2fca22997037b811547d41175b26a3/drug-use-by-age/drug-use-by-age.csv"
   ]
  },
  {
   "cell_type": "markdown",
   "metadata": {},
   "source": [
    "When investigating this age category, I utilized the last age group in the last age range to be able to compare alcohol and cocaine use. Compared to the age group 50-64, alcohol use declines for those aged 65+. This table also shows that those aged 65+ have no used cocaine in the past 12 months. "
   ]
  },
  {
   "cell_type": "markdown",
   "metadata": {},
   "source": [
    "#### Generalized Findings: \n",
    "* Alcohol use increases from age 12 - 22-23 years old, then decreases at 24-25 years old and continues to decrease across age groups. \n",
    "* Cocaine usage increases from age 12-21, then begins to decrease, with more rapid decrease in usage occurring after 22-23 years old. It is important to note that the data shows that those who are 65+ do not use cocaine. "
   ]
  },
  {
   "cell_type": "markdown",
   "metadata": {},
   "source": [
    "## Discussion"
   ]
  },
  {
   "cell_type": "markdown",
   "metadata": {},
   "source": [
    "Over the course of my analysis, I have analyzed data that helps answers my research questions: What is the most lethal substance (drug)?; How do these drugs affect a person's health by age group? So far, I have found that the substances that lead to the most deaths are fentanyl, cocaine, heroin, and alcohol. I then investigated the usage of two of these lethal drugs, alcohol and cocaine, by four age groups: 12-17, 18-25, 25-64, and 65+ to compare how different age groups consume these potentially lethal drugs. Since my data shows that drug and alcohol use continues to decline after the ages 24-25, I will be focusing on age groups that have the highest usage, and thus, the most vulnerable to develop an addiction. "
   ]
  },
  {
   "cell_type": "markdown",
   "metadata": {},
   "source": [
    "There are a various  factors that lead individuals to be vulnerable to drug addiction. These factors include the environment of an individual, personality traits, education levels, and familial bond Christiansen, 2020). An important factor that I will be focusing on that is crucial to understanding drug addiction is age. Age plays a crucial part in affecting the susceptibility of an individual to addiction, as well as the kind of drugs the individual is likely to use. It is known that drug addiction usually emerges at a young age, with the highest rates of addiction seen in adolescents and young adults (Christiansen, 2020). Young adults are thought to be between the ages of 18 and 25, while adolescents are considered to be under 18. When considering my data in my further_data_analysis notebook, we can see that drug use increases from age 12 to 22-23, then drops off at ages 24-25 and continues to decline as the age group gets older. \n",
    "This graph demonstrates the progression of increased use of substances (cocaine, alcohol) as the age group gets older, then drops off at the end of young adulthood (24-25 years old)."
   ]
  },
  {
   "cell_type": "code",
   "execution_count": 16,
   "metadata": {},
   "outputs": [
    {
     "data": {
      "text/plain": [
       "Text(0, 0.5, 'Use')"
      ]
     },
     "execution_count": 16,
     "metadata": {},
     "output_type": "execute_result"
    },
    {
     "data": {
      "image/png": "[encoded data removed]",
      "text/plain": [
       "<Figure size 432x288 with 1 Axes>"
      ]
     },
     "metadata": {
      "needs_background": "light"
     },
     "output_type": "display_data"
    }
   ],
   "source": [
    "du_df.iloc[0:14][['age', 'alcohol_use', 'cocaine_use']].plot(kind='bar', x='age')\n",
    "plt.title('Use by Age')\n",
    "plt.ylabel('Use')"
   ]
  },
  {
   "cell_type": "markdown",
   "metadata": {},
   "source": [
    "Graph by Lauren Schnepp; Source: https://github.com/fivethirtyeight/data/blob/b8389d975c2fca22997037b811547d41175b26a3/drug-use-by-age/drug-use-by-age.csv"
   ]
  },
  {
   "cell_type": "markdown",
   "metadata": {},
   "source": [
    "* Note: use is the percentage of those in an age group who used a specific substance in the past 12 months"
   ]
  },
  {
   "cell_type": "markdown",
   "metadata": {},
   "source": [
    "It is important to consider the age of onset of drug use because early-onset of substance use is demonstrated by a higher likelihood of harder substance use in the future (Christiansen, 2020), such as the four most lethal drugs (alcohol, cocaine, fentanyl, and heroin) found in my initial_data_analysis notebook. It is crucial for researchers, doctors, and mental health services/agencies to understand which age group is most susceptible to developing drug addictions as well as which drug is most lethal, to be able to intervene early to prevent risks associated with drug abuse, and decrease lives lost to drugs. "
   ]
  },
  {
   "cell_type": "markdown",
   "metadata": {},
   "source": [
    "## Conclusion"
   ]
  },
  {
   "cell_type": "markdown",
   "metadata": {},
   "source": [
    "Although I have answered these questions throughout my project, I want to clearly express my findings to each of the research questions I sought out to answer. \n",
    "\n",
    "Question 1: What is the most lethal substance (drug)?\n",
    "* The drugs that resulted in the most deaths are heroin, fentanyl, alcohol, and cocaine. \n",
    "\n",
    "Question 2: How do these drugs affect a person by age group?\n",
    "* Alcohol and drug use seem to increase in use until the end of young adulthood, and then decreases as one gets older."
   ]
  },
  {
   "cell_type": "markdown",
   "metadata": {},
   "source": [
    "## References"
   ]
  },
  {
   "cell_type": "markdown",
   "metadata": {},
   "source": [
    "Christiansen, T. (2020, November 4). How Age Affects Drug Addiction. The Recovery Village Drug and Alcohol Rehab. https://www.therecoveryvillage.com/drug-addiction/related-topics/affects-age/. \n",
    "\n",
    "Murray, K. (2020, April 28). The Top 10 Most Dangerous Drugs. Rehab Spot. https://www.rehabspot.com/drugs/the-top-10-most-dangerous-drugs/. "
   ]
  }
 ],
 "metadata": {
  "kernelspec": {
   "display_name": "Python 3",
   "language": "python",
   "name": "python3"
  },
  "language_info": {
   "codemirror_mode": {
    "name": "ipython",
    "version": 3
   },
   "file_extension": ".py",
   "mimetype": "text/x-python",
   "name": "python",
   "nbconvert_exporter": "python",
   "pygments_lexer": "ipython3",
   "version": "3.7.3"
  }
 },
 "nbformat": 4,
 "nbformat_minor": 2
}
